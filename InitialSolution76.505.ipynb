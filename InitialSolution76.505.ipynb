{
 "cells": [
  {
   "cell_type": "code",
   "execution_count": null,
   "metadata": {
    "collapsed": true
   },
   "outputs": [],
   "source": [
    "# Ideas to improve accuracy\n",
    "'''\n",
    "What to do about cabin no\n",
    "'''"
   ]
  },
  {
   "cell_type": "code",
   "execution_count": 1,
   "metadata": {
    "collapsed": false
   },
   "outputs": [
    {
     "name": "stderr",
     "output_type": "stream",
     "text": [
      "Using Theano backend.\n"
     ]
    }
   ],
   "source": [
    "#import std libraries\n",
    "%matplotlib inline\n",
    "import numpy as np\n",
    "import matplotlib.pyplot as plt\n",
    "import pandas as pd\n",
    "from keras.models import Sequential\n",
    "from keras.layers import Dense,Activation"
   ]
  },
  {
   "cell_type": "code",
   "execution_count": 37,
   "metadata": {
    "collapsed": false
   },
   "outputs": [
    {
     "data": {
      "text/html": [
       "<div>\n",
       "<style>\n",
       "    .dataframe thead tr:only-child th {\n",
       "        text-align: right;\n",
       "    }\n",
       "\n",
       "    .dataframe thead th {\n",
       "        text-align: left;\n",
       "    }\n",
       "\n",
       "    .dataframe tbody tr th {\n",
       "        vertical-align: top;\n",
       "    }\n",
       "</style>\n",
       "<table border=\"1\" class=\"dataframe\">\n",
       "  <thead>\n",
       "    <tr style=\"text-align: right;\">\n",
       "      <th></th>\n",
       "      <th>PassengerId</th>\n",
       "      <th>Survived</th>\n",
       "      <th>Pclass</th>\n",
       "      <th>Age</th>\n",
       "      <th>SibSp</th>\n",
       "      <th>Parch</th>\n",
       "      <th>Fare</th>\n",
       "    </tr>\n",
       "  </thead>\n",
       "  <tbody>\n",
       "    <tr>\n",
       "      <th>count</th>\n",
       "      <td>891.000000</td>\n",
       "      <td>891.000000</td>\n",
       "      <td>891.000000</td>\n",
       "      <td>714.000000</td>\n",
       "      <td>891.000000</td>\n",
       "      <td>891.000000</td>\n",
       "      <td>891.000000</td>\n",
       "    </tr>\n",
       "    <tr>\n",
       "      <th>mean</th>\n",
       "      <td>446.000000</td>\n",
       "      <td>0.383838</td>\n",
       "      <td>2.308642</td>\n",
       "      <td>29.699118</td>\n",
       "      <td>0.523008</td>\n",
       "      <td>0.381594</td>\n",
       "      <td>32.204208</td>\n",
       "    </tr>\n",
       "    <tr>\n",
       "      <th>std</th>\n",
       "      <td>257.353842</td>\n",
       "      <td>0.486592</td>\n",
       "      <td>0.836071</td>\n",
       "      <td>14.526497</td>\n",
       "      <td>1.102743</td>\n",
       "      <td>0.806057</td>\n",
       "      <td>49.693429</td>\n",
       "    </tr>\n",
       "    <tr>\n",
       "      <th>min</th>\n",
       "      <td>1.000000</td>\n",
       "      <td>0.000000</td>\n",
       "      <td>1.000000</td>\n",
       "      <td>0.420000</td>\n",
       "      <td>0.000000</td>\n",
       "      <td>0.000000</td>\n",
       "      <td>0.000000</td>\n",
       "    </tr>\n",
       "    <tr>\n",
       "      <th>25%</th>\n",
       "      <td>223.500000</td>\n",
       "      <td>0.000000</td>\n",
       "      <td>2.000000</td>\n",
       "      <td>20.125000</td>\n",
       "      <td>0.000000</td>\n",
       "      <td>0.000000</td>\n",
       "      <td>7.910400</td>\n",
       "    </tr>\n",
       "    <tr>\n",
       "      <th>50%</th>\n",
       "      <td>446.000000</td>\n",
       "      <td>0.000000</td>\n",
       "      <td>3.000000</td>\n",
       "      <td>28.000000</td>\n",
       "      <td>0.000000</td>\n",
       "      <td>0.000000</td>\n",
       "      <td>14.454200</td>\n",
       "    </tr>\n",
       "    <tr>\n",
       "      <th>75%</th>\n",
       "      <td>668.500000</td>\n",
       "      <td>1.000000</td>\n",
       "      <td>3.000000</td>\n",
       "      <td>38.000000</td>\n",
       "      <td>1.000000</td>\n",
       "      <td>0.000000</td>\n",
       "      <td>31.000000</td>\n",
       "    </tr>\n",
       "    <tr>\n",
       "      <th>max</th>\n",
       "      <td>891.000000</td>\n",
       "      <td>1.000000</td>\n",
       "      <td>3.000000</td>\n",
       "      <td>80.000000</td>\n",
       "      <td>8.000000</td>\n",
       "      <td>6.000000</td>\n",
       "      <td>512.329200</td>\n",
       "    </tr>\n",
       "  </tbody>\n",
       "</table>\n",
       "</div>"
      ],
      "text/plain": [
       "       PassengerId    Survived      Pclass         Age       SibSp  \\\n",
       "count   891.000000  891.000000  891.000000  714.000000  891.000000   \n",
       "mean    446.000000    0.383838    2.308642   29.699118    0.523008   \n",
       "std     257.353842    0.486592    0.836071   14.526497    1.102743   \n",
       "min       1.000000    0.000000    1.000000    0.420000    0.000000   \n",
       "25%     223.500000    0.000000    2.000000   20.125000    0.000000   \n",
       "50%     446.000000    0.000000    3.000000   28.000000    0.000000   \n",
       "75%     668.500000    1.000000    3.000000   38.000000    1.000000   \n",
       "max     891.000000    1.000000    3.000000   80.000000    8.000000   \n",
       "\n",
       "            Parch        Fare  \n",
       "count  891.000000  891.000000  \n",
       "mean     0.381594   32.204208  \n",
       "std      0.806057   49.693429  \n",
       "min      0.000000    0.000000  \n",
       "25%      0.000000    7.910400  \n",
       "50%      0.000000   14.454200  \n",
       "75%      0.000000   31.000000  \n",
       "max      6.000000  512.329200  "
      ]
     },
     "execution_count": 37,
     "metadata": {},
     "output_type": "execute_result"
    }
   ],
   "source": [
    "#import data\n",
    "train_data = pd.read_csv('train.csv')\n",
    "test_data = pd.read_csv('test.csv')\n",
    "train_data.describe()"
   ]
  },
  {
   "cell_type": "code",
   "execution_count": 2,
   "metadata": {
    "collapsed": false
   },
   "outputs": [
    {
     "name": "stdout",
     "output_type": "stream",
     "text": [
      "[nan 'C85' nan 'C123' nan nan 'E46' nan nan nan 'G6' 'C103' nan nan nan nan\n",
      " nan nan nan nan nan 'D56' nan 'A6' nan nan nan 'C23 C25 C27' nan nan nan\n",
      " 'B78' nan nan nan nan nan nan nan nan nan nan nan nan nan nan nan nan nan\n",
      " nan nan nan 'D33' nan 'B30' 'C52' nan nan nan nan nan 'B28' 'C83' nan nan\n",
      " nan 'F33' nan nan nan nan nan nan nan nan 'F G73' nan nan nan nan nan nan\n",
      " nan nan nan nan nan nan 'C23 C25 C27' nan nan nan 'E31' nan nan nan 'A5'\n",
      " 'D10 D12' nan nan nan nan 'D26' nan nan nan nan nan nan nan 'C110' nan nan\n",
      " nan nan nan nan nan 'B58 B60' nan nan nan nan 'E101' 'D26' nan nan nan\n",
      " 'F E69' nan nan nan nan nan nan nan 'D47' 'C123' nan 'B86' nan nan nan nan\n",
      " nan nan nan nan 'F2' nan nan 'C2' nan nan nan nan nan nan nan nan nan nan\n",
      " nan nan nan nan 'E33' nan nan nan 'B19' nan nan nan 'A7' nan nan 'C49' nan\n",
      " nan nan nan nan 'F4' nan 'A32' nan nan nan nan nan nan nan 'F2' 'B4' 'B80'\n",
      " nan nan nan nan nan nan nan nan nan 'G6' nan nan nan 'A31' nan nan nan nan\n",
      " nan 'D36' nan nan 'D15' nan nan nan nan nan 'C93' nan nan nan nan nan\n",
      " 'C83' nan nan nan nan nan nan nan nan nan nan nan nan nan nan 'C78' nan\n",
      " nan 'D35' nan nan 'G6' 'C87' nan nan nan nan 'B77' nan nan nan nan 'E67'\n",
      " 'B94' nan nan nan nan 'C125' 'C99' nan nan nan 'C118' nan 'D7' nan nan nan\n",
      " nan nan nan nan nan 'A19' nan nan nan nan nan nan 'B49' 'D' nan nan nan\n",
      " nan 'C22 C26' 'C106' 'B58 B60' nan nan nan 'E101' nan 'C22 C26' nan 'C65'\n",
      " nan 'E36' 'C54' 'B57 B59 B63 B66' nan nan nan nan nan nan 'C7' 'E34' nan\n",
      " nan nan nan nan 'C32' nan 'D' nan 'B18' nan 'C124' 'C91' nan nan nan 'C2'\n",
      " 'E40' nan 'T' 'F2' 'C23 C25 C27' nan nan nan 'F33' nan nan nan nan nan\n",
      " 'C128' nan nan nan nan 'E33' nan nan nan nan nan nan nan nan nan 'D37' nan\n",
      " nan 'B35' 'E50' nan nan nan nan nan nan 'C82' nan nan nan nan nan nan nan\n",
      " nan nan nan nan nan 'B96 B98' nan nan 'D36' 'G6' nan nan nan nan nan nan\n",
      " nan nan nan nan nan nan nan nan nan nan nan 'C78' nan nan nan nan nan nan\n",
      " nan nan nan nan nan nan nan nan nan nan 'E10' 'C52' nan nan nan 'E44'\n",
      " 'B96 B98' nan nan 'C23 C25 C27' nan nan nan nan nan nan 'A34' nan nan nan\n",
      " 'C104' nan nan 'C111' 'C92' nan nan 'E38' 'D21' nan nan 'E12' nan 'E63'\n",
      " nan nan nan nan nan nan nan nan nan nan 'D' nan 'A14' nan nan nan nan nan\n",
      " nan nan nan 'B49' nan 'C93' 'B37' nan nan nan nan 'C30' nan nan nan 'D20'\n",
      " nan 'C22 C26' nan nan nan nan nan 'B79' 'C65' nan nan nan nan nan nan\n",
      " 'E25' nan nan 'D46' 'F33' nan nan nan 'B73' nan nan 'B18' nan nan nan\n",
      " 'C95' nan nan nan nan nan nan nan nan 'B38' nan nan 'B39' 'B22' nan nan\n",
      " nan 'C86' nan nan nan nan nan 'C70' nan nan nan nan nan 'A16' nan 'E67'\n",
      " nan nan nan nan nan nan nan nan nan nan nan nan 'C101' 'E25' nan nan nan\n",
      " nan 'E44' nan nan nan 'C68' nan 'A10' nan 'E68' nan 'B41' nan nan nan\n",
      " 'D20' nan nan nan nan nan nan nan 'A20' nan nan nan nan nan nan nan nan\n",
      " nan 'C125' nan nan nan nan nan nan nan nan 'F4' nan nan 'D19' nan nan nan\n",
      " 'D50' nan 'D9' nan nan 'A23' nan 'B50' nan nan nan nan nan nan nan nan\n",
      " 'B35' nan nan nan 'D33' nan 'A26' nan nan nan nan nan nan nan nan nan nan\n",
      " nan 'D48' nan nan 'E58' nan nan nan nan nan nan 'C126' nan 'B71' nan nan\n",
      " nan nan nan nan nan 'B51 B53 B55' nan 'D49' nan nan nan nan nan nan nan\n",
      " 'B5' 'B20' nan nan nan nan nan nan nan 'C68' 'F G63' 'C62 C64' 'E24' nan\n",
      " nan nan nan nan 'E24' nan nan 'C90' 'C124' 'C126' nan nan 'F G73' 'C45'\n",
      " 'E101' nan nan nan nan nan nan 'E8' nan nan nan nan nan 'B5' nan nan nan\n",
      " nan nan nan 'B101' nan nan 'D45' 'C46' 'B57 B59 B63 B66' nan nan 'B22' nan\n",
      " nan 'D30' nan nan 'E121' nan nan nan nan nan nan nan 'B77' nan nan nan\n",
      " 'B96 B98' nan 'D11' nan nan nan nan nan nan 'E77' nan nan nan 'F38' nan\n",
      " nan 'B3' nan 'B20' 'D6' nan nan nan nan nan nan 'B82 B84' nan nan nan nan\n",
      " nan nan 'D17' nan nan nan nan nan 'B96 B98' nan nan nan 'A36' nan nan 'E8'\n",
      " nan nan nan nan nan 'B102' nan nan nan nan 'B69' nan nan 'E121' nan nan\n",
      " nan nan nan 'B28' nan nan nan nan nan 'E49' nan nan nan 'C47' nan nan nan\n",
      " nan nan nan nan nan nan 'C92' nan nan nan 'D28' nan nan nan 'E17' nan nan\n",
      " nan nan 'D17' nan nan nan nan 'A24' nan nan nan 'D35' 'B51 B53 B55' nan\n",
      " nan nan nan nan nan 'C50' nan nan nan nan nan nan nan 'B42' nan 'C148' nan]\n"
     ]
    }
   ],
   "source": [
    "#Convert into numpy arrays\n",
    "numpy_train = train_data.as_matrix()\n",
    "numpy_test = test_data.as_matrix()\n",
    "#id ,survived, class, name,sex,age,siblingspouse,parentchild,ticket,fare,cabin,embarked\n",
    "\n",
    "\n",
    "X_train = numpy_train[:,2:]\n",
    "# class, name,sex,age,siblingspouse,parentchild,ticket,fare,cabin,embarked\n",
    "y_train = numpy_train[:,1]\n",
    "X_test = numpy_test[:,1:]\n",
    "PassengerId = numpy_test[:,0]\n",
    "\n",
    "#Removing name from list of parameters as this is irrelevant\n",
    "X_train = np.delete(X_train,1,axis=1)\n",
    "# class,sex,age,siblingspouse,parentchild,ticket,fare,cabin,embarked\n",
    "X_test = np.delete(X_test,1,axis=1)\n",
    "\n",
    "\n",
    "#Removing cabin from data as less amount of data\n",
    "\n",
    "X_train = np.delete(X_train,7,axis=1)\n",
    "# class,sex,age,siblingspouse,parentchild,ticket,fare,embarked\n",
    "X_test = np.delete(X_test,7,axis=1)\n",
    "\n",
    "#Removing ticket no  from data as this is irrelevant\n",
    "X_train = np.delete(X_train,5,axis=1)\n",
    "X_test = np.delete(X_test,5,axis=1)\n",
    "\n",
    "#Fare of row 152 is not defined \n",
    "#Replace fare with average fare\n",
    "\n",
    "null_fare = pd.isnull(X_test[:,5])\n",
    "average_fare = np.mean(X_test[~null_fare][:,5])\n",
    "X_test[:,5][null_fare] = average_fare"
   ]
  },
  {
   "cell_type": "code",
   "execution_count": 3,
   "metadata": {
    "collapsed": false,
    "scrolled": true
   },
   "outputs": [],
   "source": [
    "#Analysing data\n",
    "\n",
    "#Total samples 891\n",
    "#Featueres removed 3 Remaining features 7 \n",
    "#Total nan values\n",
    "#177,687,2\n",
    "#Age,cabin,embarked are null\n",
    "'''\n",
    "pclass \tTicket class \t1 = 1st, 2 = 2nd, 3 = 3rd\n",
    "sex \tSex \t male/female\n",
    "Age \tAge in years \t\n",
    "sibsp \t# of siblings / spouses aboard the Titanic \t\n",
    "parch \t# of parents / children aboard the Titanic \t\n",
    "ticket \tTicket number \t\n",
    "fare \tPassenger fare \t\n",
    "cabin \tCabin number \t\n",
    "embarked \tPort of Embarkation\n",
    "'''\n",
    "\n",
    "'''\n",
    "Code to check how many nan values are present\n",
    "print(np.sum(pd.isnull(X_train[:,0])))\n",
    "print(np.sum(pd.isnull(X_train[:,8])))\n",
    "'''\n",
    "\n",
    "\n",
    "#Replacing the male,female with 0 for male 1 for female\n",
    "male = np.where(X_train[:,1] == 'male')\n",
    "X_train[:,1][male] = 0\n",
    "\n",
    "female = np.where(X_train[:,1] == 'female')\n",
    "X_train[:,1][female] = 1\n",
    "\n",
    "\n",
    "#Replacing the male,female with 0 for male 1 for female\n",
    "male = np.where(X_test[:,1] == 'male')\n",
    "X_test[:,1][male] = 0\n",
    "\n",
    "female = np.where(X_test[:,1] == 'female')\n",
    "X_test[:,1][female] = 1\n",
    "\n",
    "\n",
    "#Understand the age_nan_value\n",
    "age_null_boolean = pd.isnull(X_train[:,2])\n",
    "average_age = np.mean(X_train[~age_null_boolean][:,2])\n",
    "X_train[:,2][age_null_boolean] = average_age\n",
    "\n",
    "\n",
    "#Understand the age_nan_value\n",
    "age_null_boolean = pd.isnull(X_test[:,2])\n",
    "average_age = np.mean(X_test[~age_null_boolean][:,2])\n",
    "X_test[:,2][age_null_boolean] = average_age\n",
    "\n",
    "\n",
    "#Understand the cabin_null_values\n",
    "cabin_null_boolean = pd.isnull(X_train[:,6]) \n",
    "value,count = np.unique(X_train[:,6],return_counts=True)\n",
    "max_value = value[np.argmax(count)]\n",
    "X_train[:,6][cabin_null_boolean] = max_value\n",
    "cabin_null_boolean = pd.isnull(X_train[:,6]) \n",
    "\n",
    "\n",
    "\n",
    "#Understand the cabin_null_values\n",
    "cabin_null_boolean = pd.isnull(X_test[:,6]) \n",
    "value,count = np.unique(X_test[:,6],return_counts=True)\n",
    "max_value = value[np.argmax(count)]\n",
    "X_test[:,6][cabin_null_boolean] = max_value\n",
    "cabin_null_boolean = pd.isnull(X_test[:,6]) \n",
    "\n",
    "\n",
    "#Replacing the cabin values with integers\n",
    "cclass = np.where(X_train[:,6]=='C')\n",
    "X_train[:,6][cclass] = 0 \n",
    "qclass = np.where(X_train[:,6]=='Q')\n",
    "X_train[:,6][qclass] = 1\n",
    "sclass = np.where(X_train[:,6]=='S')\n",
    "X_train[:,6][sclass] = 2\n",
    "\n",
    "\n",
    "#Replacing the cabin values with integers\n",
    "cclass = np.where(X_test[:,6]=='C')\n",
    "X_test[:,6][cclass] = 0 \n",
    "qclass = np.where(X_test[:,6]=='Q')\n",
    "X_test[:,6][qclass] = 1\n",
    "sclass = np.where(X_test[:,6]=='S')\n",
    "X_test[:,6][sclass] = 2\n"
   ]
  },
  {
   "cell_type": "code",
   "execution_count": 4,
   "metadata": {
    "collapsed": false
   },
   "outputs": [
    {
     "name": "stdout",
     "output_type": "stream",
     "text": [
      "[0.2994652406417112 -1.0 -0.2592372520474945 0.9120171673819745 -1.0\n",
      " -0.7748741404516245 0.30168005843681517]\n"
     ]
    }
   ],
   "source": [
    "#Normalise and standarise the train_data\n",
    "meantrain = np.mean(X_train,axis=0)\n",
    "meantest = np.mean(X_test,axis=0)\n",
    "X_train -= meantrain\n",
    "X_test -= meantest\n",
    "X_train /= meantrain\n",
    "X_test /= meantest\n",
    "print X_train[0]"
   ]
  },
  {
   "cell_type": "code",
   "execution_count": 32,
   "metadata": {
    "collapsed": true
   },
   "outputs": [],
   "source": [
    "#Creating a keras model\n",
    "model = Sequential()\n",
    "model.add(Dense(891,input_dim=7,activation='relu'))\n",
    "model.add(Dense(20,activation='relu'))\n",
    "model.add(Dense(20,activation='relu'))\n",
    "model.add(Dense(1,activation='sigmoid'))\n",
    "# model.add(Dense(12,input_dim=7,activation='relu'))\n",
    "# model.add(Dense(12,activation='relu'))\n",
    "# model.add(Dense(12,activation='relu'))\n",
    "# model.add(Dense(1,activation='sigmoid'))"
   ]
  },
  {
   "cell_type": "code",
   "execution_count": 33,
   "metadata": {
    "collapsed": true
   },
   "outputs": [],
   "source": [
    "#compiling the model\n",
    "model.compile(loss='binary_crossentropy',optimizer='adam',metrics=['accuracy'])"
   ]
  },
  {
   "cell_type": "code",
   "execution_count": 34,
   "metadata": {
    "collapsed": false
   },
   "outputs": [
    {
     "data": {
      "text/plain": [
       "<keras.callbacks.History at 0x7f62e80c6ad0>"
      ]
     },
     "execution_count": 34,
     "metadata": {},
     "output_type": "execute_result"
    }
   ],
   "source": [
    "#Fitting the model\n",
    "model.fit(X_train[:700],y_train[:700],epochs=1000,batch_size=64,verbose=0)"
   ]
  },
  {
   "cell_type": "code",
   "execution_count": 35,
   "metadata": {
    "collapsed": false
   },
   "outputs": [
    {
     "name": "stdout",
     "output_type": "stream",
     "text": [
      "0.217142857143\n"
     ]
    }
   ],
   "source": [
    "#Predicting the values\n",
    "prediction = model.predict(X_train[700:])\n",
    "prediction = [int(round(single)) for single in prediction]\n",
    "prediction2 = y_train[700:]\n",
    "totalcorrect = np.sum(prediction == prediction2)\n",
    "accuracy = totalcorrect/700.00\n",
    "print accuracy\n"
   ]
  },
  {
   "cell_type": "code",
   "execution_count": 219,
   "metadata": {
    "collapsed": true
   },
   "outputs": [],
   "source": [
    "#Observation on prediction\n",
    "#Location value 152 has a nan output\n",
    "#Analysing input , came to know that one of the columns of 152 was nan"
   ]
  },
  {
   "cell_type": "code",
   "execution_count": 220,
   "metadata": {
    "collapsed": false
   },
   "outputs": [],
   "source": [
    "prediction = [int(round(single)) for single in prediction]\n",
    "data = np.vstack((PassengerId,prediction))\n",
    "data = np.transpose(data)\n"
   ]
  },
  {
   "cell_type": "code",
   "execution_count": 221,
   "metadata": {
    "collapsed": false
   },
   "outputs": [
    {
     "name": "stdout",
     "output_type": "stream",
     "text": [
      "    PassengerId Survived\n",
      "0           892        0\n",
      "1           893        0\n",
      "2           894        0\n",
      "3           895        0\n",
      "4           896        0\n",
      "5           897        0\n",
      "6           898        1\n",
      "7           899        0\n",
      "8           900        1\n",
      "9           901        0\n",
      "10          902        0\n",
      "11          903        0\n",
      "12          904        1\n",
      "13          905        0\n",
      "14          906        1\n",
      "15          907        1\n",
      "16          908        0\n",
      "17          909        0\n",
      "18          910        0\n",
      "19          911        0\n",
      "20          912        1\n",
      "21          913        1\n",
      "22          914        1\n",
      "23          915        1\n",
      "24          916        1\n",
      "25          917        0\n",
      "26          918        1\n",
      "27          919        0\n",
      "28          920        0\n",
      "29          921        1\n",
      "..          ...      ...\n",
      "388        1280        0\n",
      "389        1281        0\n",
      "390        1282        0\n",
      "391        1283        1\n",
      "392        1284        0\n",
      "393        1285        0\n",
      "394        1286        0\n",
      "395        1287        1\n",
      "396        1288        0\n",
      "397        1289        1\n",
      "398        1290        0\n",
      "399        1291        0\n",
      "400        1292        1\n",
      "401        1293        0\n",
      "402        1294        1\n",
      "403        1295        0\n",
      "404        1296        0\n",
      "405        1297        0\n",
      "406        1298        0\n",
      "407        1299        1\n",
      "408        1300        1\n",
      "409        1301        1\n",
      "410        1302        1\n",
      "411        1303        1\n",
      "412        1304        0\n",
      "413        1305        0\n",
      "414        1306        1\n",
      "415        1307        0\n",
      "416        1308        0\n",
      "417        1309        1\n",
      "\n",
      "[418 rows x 2 columns]\n"
     ]
    }
   ],
   "source": [
    "dataframe = pd.DataFrame(data)\n",
    "dataframe.columns = ['PassengerId','Survived']\n"
   ]
  },
  {
   "cell_type": "code",
   "execution_count": 222,
   "metadata": {
    "collapsed": true
   },
   "outputs": [],
   "source": [
    "dataframe.to_csv('submit.csv',index=False)"
   ]
  },
  {
   "cell_type": "code",
   "execution_count": null,
   "metadata": {
    "collapsed": true
   },
   "outputs": [],
   "source": []
  }
 ],
 "metadata": {
  "kernelspec": {
   "display_name": "Python 2",
   "language": "python",
   "name": "python2"
  },
  "language_info": {
   "codemirror_mode": {
    "name": "ipython",
    "version": 2
   },
   "file_extension": ".py",
   "mimetype": "text/x-python",
   "name": "python",
   "nbconvert_exporter": "python",
   "pygments_lexer": "ipython2",
   "version": "2.7.12"
  }
 },
 "nbformat": 4,
 "nbformat_minor": 0
}
